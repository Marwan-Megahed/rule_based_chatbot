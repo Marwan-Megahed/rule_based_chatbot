{
  "cells": [
    {
      "cell_type": "markdown",
      "metadata": {
        "id": "52UhPW9gBlbL"
      },
      "source": [
        "# General Types of Chatbots\n",
        "\n",
        "Chatbots can be categorized based on their functionality, intelligence, and interaction style. Here are the main types, along with context for your students:\n",
        "\n",
        "---\n",
        "\n",
        "## 1. Rule-Based Chatbots\n",
        "\n",
        "**Description:** Use predefined rules and patterns (e.g., keyword matching or decision trees) to respond.  \n",
        "**Example:** A chatbot that replies “Book now!” if the user types “book a flight.”  \n",
        "**Pros:** Simple, predictable, easy to implement.  \n",
        "**Cons:** Limited flexibility, struggles with varied inputs.  \n",
        "\n",
        "\n",
        "---\n",
        "\n",
        "## 2. ML-Driven Chatbots\n",
        "\n",
        "**Description:** Use machine learning to understand and classify user input, such as intent detection or sentiment analysis.  \n",
        "**Example:** A customer service bot that classifies queries as “refund” or “support” using logistic regression.  \n",
        "**Pros:** Handles diverse inputs better than rule-based systems.  \n",
        "**Cons:** Requires labeled training data and preprocessing.  \n",
        "\n",
        "---\n",
        "\n",
        "## 3. Generative Chatbots\n",
        "\n",
        "**Description:** Use generative AI (e.g., GPT or BERT) to create dynamic, context-aware responses.  \n",
        "**Example:** ChatGPT, which generates human-like replies without predefined responses.  \n",
        "**Pros:** Highly conversational, adaptable to varied inputs.  \n",
        "**Cons:** Complex, resource-intensive, and requires advanced NLP models.  \n",
        "\n",
        "\n",
        "---\n",
        "\n",
        "## 4. Hybrid Chatbots\n",
        "\n",
        "**Description:** Combine rule-based and ML/generative approaches for greater flexibility and reliability.  \n",
        "**Example:** A bot that uses ML to classify intents and falls back to rules for specific commands.  \n",
        "**Pros:** Balances simplicity and sophistication.  \n",
        "**Cons:** More complex to design and maintain.  \n",
        "\n",
        "\n",
        "---\n",
        "\n",
        "## 5. Task-Oriented Chatbots\n",
        "\n",
        "**Description:** Focus on completing specific tasks like booking, scheduling, or support.  \n",
        "**Example:** A flight booking bot that walks users through the booking steps.  \n",
        "**Pros:** Efficient and effective in narrow domains.  \n",
        "**Cons:** Limited to the tasks they’re designed for.  \n",
        "\n",
        "\n",
        "---\n",
        "\n",
        "## 6. Conversational or Virtual Assistant Chatbots\n",
        "\n",
        "**Description:** Designed for general conversation and assistance, often with personality (e.g., Siri, Alexa).  \n",
        "**Example:** A bot answering weather questions, greetings, or general FAQs.  \n",
        "**Pros:** Engaging and widely applicable.  \n",
        "**Cons:** Requires broad intent recognition and strong NLP capabilities.  \n",
        "\n",
        "\n",
        "### Summary of Types (for quick reference)\n",
        "\n",
        "| Type                    | Core Idea                                      |\n",
        "|-------------------------|------------------------------------------------|\n",
        "| Rule-Based              | If-then logic, keyword patterns                |\n",
        "| ML-Driven               | Learns from labeled data                       |\n",
        "| Generative              | Creates replies (no fixed responses)           |\n",
        "| Hybrid                  | Combines rule-based + ML/generative            |\n",
        "| Task-Oriented           | Focuses on completing a specific task          |\n",
        "| Conversational Assistant| Engages in open-ended conversation             |\n",
        "\n"
      ]
    },
    {
      "cell_type": "code",
      "execution_count": 238,
      "metadata": {
        "colab": {
          "base_uri": "https://localhost:8080/"
        },
        "id": "MLhZxzhGRtoX",
        "outputId": "125831a3-87aa-4e4f-8875-71d37d062280"
      },
      "outputs": [
        {
          "name": "stderr",
          "output_type": "stream",
          "text": [
            "[nltk_data] Downloading package stopwords to\n",
            "[nltk_data]     C:\\Users\\marwa\\AppData\\Roaming\\nltk_data...\n",
            "[nltk_data]   Package stopwords is already up-to-date!\n",
            "[nltk_data] Downloading package punkt to\n",
            "[nltk_data]     C:\\Users\\marwa\\AppData\\Roaming\\nltk_data...\n",
            "[nltk_data]   Package punkt is already up-to-date!\n"
          ]
        }
      ],
      "source": [
        "import numpy as np\n",
        "import pandas as pd\n",
        "import matplotlib.pyplot as plt\n",
        "import seaborn as sns\n",
        "\n",
        "# sklearn\n",
        "from sklearn.preprocessing import LabelEncoder\n",
        "from sklearn.model_selection import train_test_split\n",
        "from sklearn.feature_extraction.text import TfidfVectorizer\n",
        "from sklearn.linear_model import LogisticRegression\n",
        "from sklearn.svm import SVC\n",
        "from sklearn.metrics import accuracy_score, confusion_matrix, classification_report\n",
        "\n",
        "# nlp\n",
        "from nltk.corpus import stopwords\n",
        "from nltk.stem.porter import PorterStemmer\n",
        "from nltk.tokenize import word_tokenize\n",
        "import nltk\n",
        "import string\n",
        "\n",
        "nltk.download('stopwords')\n",
        "nltk.download('punkt')\n",
        "\n",
        "\n",
        "import difflib\n",
        "import random"
      ]
    },
    {
      "cell_type": "code",
      "execution_count": 239,
      "metadata": {
        "colab": {
          "base_uri": "https://localhost:8080/",
          "height": 206
        },
        "id": "UjwfSNAKeWce",
        "outputId": "e3c6362e-66a8-4367-d490-700863bc80bb"
      },
      "outputs": [
        {
          "data": {
            "text/html": [
              "<div>\n",
              "<style scoped>\n",
              "    .dataframe tbody tr th:only-of-type {\n",
              "        vertical-align: middle;\n",
              "    }\n",
              "\n",
              "    .dataframe tbody tr th {\n",
              "        vertical-align: top;\n",
              "    }\n",
              "\n",
              "    .dataframe thead th {\n",
              "        text-align: right;\n",
              "    }\n",
              "</style>\n",
              "<table border=\"1\" class=\"dataframe\">\n",
              "  <thead>\n",
              "    <tr style=\"text-align: right;\">\n",
              "      <th></th>\n",
              "      <th>User Input</th>\n",
              "      <th>Category</th>\n",
              "      <th>Chatbot Response</th>\n",
              "    </tr>\n",
              "  </thead>\n",
              "  <tbody>\n",
              "    <tr>\n",
              "      <th>0</th>\n",
              "      <td>Good morning</td>\n",
              "      <td>Greeting</td>\n",
              "      <td>Welcome to ICTHUB - For Digital Solutions! \\n\\...</td>\n",
              "    </tr>\n",
              "    <tr>\n",
              "      <th>1</th>\n",
              "      <td>Good afternoon</td>\n",
              "      <td>Greeting</td>\n",
              "      <td>Welcome to ICTHUB - For Digital Solutions! \\n\\...</td>\n",
              "    </tr>\n",
              "    <tr>\n",
              "      <th>2</th>\n",
              "      <td>Good evening</td>\n",
              "      <td>Greeting</td>\n",
              "      <td>Welcome to ICTHUB - For Digital Solutions! \\n...</td>\n",
              "    </tr>\n",
              "    <tr>\n",
              "      <th>3</th>\n",
              "      <td>Hi there</td>\n",
              "      <td>Greeting</td>\n",
              "      <td>\\n  Welcome to ICTHUB - For Digital Solutions!...</td>\n",
              "    </tr>\n",
              "    <tr>\n",
              "      <th>4</th>\n",
              "      <td>Hello</td>\n",
              "      <td>Greeting</td>\n",
              "      <td>\\n  Welcome to ICTHUB - For Digital Solutions!...</td>\n",
              "    </tr>\n",
              "  </tbody>\n",
              "</table>\n",
              "</div>"
            ],
            "text/plain": [
              "       User Input  Category                                   Chatbot Response\n",
              "0    Good morning  Greeting  Welcome to ICTHUB - For Digital Solutions! \\n\\...\n",
              "1  Good afternoon  Greeting  Welcome to ICTHUB - For Digital Solutions! \\n\\...\n",
              "2    Good evening  Greeting   Welcome to ICTHUB - For Digital Solutions! \\n...\n",
              "3        Hi there  Greeting  \\n  Welcome to ICTHUB - For Digital Solutions!...\n",
              "4           Hello  Greeting  \\n  Welcome to ICTHUB - For Digital Solutions!..."
            ]
          },
          "execution_count": 239,
          "metadata": {},
          "output_type": "execute_result"
        }
      ],
      "source": [
        "df = pd.read_excel('icthub_dataset.xlsx')\n",
        "df.head()"
      ]
    },
    {
      "cell_type": "code",
      "execution_count": 240,
      "metadata": {
        "colab": {
          "base_uri": "https://localhost:8080/",
          "height": 460
        },
        "id": "Y6o0fDSbfF6R",
        "outputId": "abebece7-7a18-4277-85c7-b8bbde91d557"
      },
      "outputs": [
        {
          "data": {
            "text/plain": [
              "Category\n",
              "Asking for Internship Details         82\n",
              "Thanking Message                      69\n",
              "General_Info_Services                 68\n",
              "AI Internship Details                 66\n",
              "Cyber Security Internship Details     64\n",
              "Web Development internship details    64\n",
              "data analysis internship details      64\n",
              "flutter internship details            64\n",
              "supply chain internship details       64\n",
              "Greeting                              60\n",
              "Location                              50\n",
              "Name: count, dtype: int64"
            ]
          },
          "execution_count": 240,
          "metadata": {},
          "output_type": "execute_result"
        }
      ],
      "source": [
        "df['Category'].value_counts()"
      ]
    },
    {
      "cell_type": "code",
      "execution_count": 241,
      "metadata": {
        "colab": {
          "base_uri": "https://localhost:8080/"
        },
        "id": "vnL5aPUVfZO2",
        "outputId": "a9513d3c-c5f0-4bb2-cf63-db796bd62bad"
      },
      "outputs": [
        {
          "data": {
            "text/plain": [
              "11"
            ]
          },
          "execution_count": 241,
          "metadata": {},
          "output_type": "execute_result"
        }
      ],
      "source": [
        "len(df['Category'].value_counts())"
      ]
    },
    {
      "cell_type": "code",
      "execution_count": 242,
      "metadata": {
        "colab": {
          "base_uri": "https://localhost:8080/"
        },
        "id": "HM_ELsxQfhyz",
        "outputId": "4c737b48-79f4-421e-9496-6b00e3a6821f"
      },
      "outputs": [
        {
          "name": "stdout",
          "output_type": "stream",
          "text": [
            "<class 'pandas.core.frame.DataFrame'>\n",
            "RangeIndex: 715 entries, 0 to 714\n",
            "Data columns (total 3 columns):\n",
            " #   Column            Non-Null Count  Dtype \n",
            "---  ------            --------------  ----- \n",
            " 0   User Input        715 non-null    object\n",
            " 1   Category          715 non-null    object\n",
            " 2   Chatbot Response  715 non-null    object\n",
            "dtypes: object(3)\n",
            "memory usage: 16.9+ KB\n"
          ]
        }
      ],
      "source": [
        "df.info()"
      ]
    },
    {
      "cell_type": "code",
      "execution_count": 243,
      "metadata": {
        "colab": {
          "base_uri": "https://localhost:8080/",
          "height": 178
        },
        "id": "lLdrHnO1gNOW",
        "outputId": "8e457f86-b6be-415a-afc6-894a32b8d58c"
      },
      "outputs": [
        {
          "data": {
            "text/plain": [
              "User Input          0\n",
              "Category            0\n",
              "Chatbot Response    0\n",
              "dtype: int64"
            ]
          },
          "execution_count": 243,
          "metadata": {},
          "output_type": "execute_result"
        }
      ],
      "source": [
        "df.isnull().sum()"
      ]
    },
    {
      "cell_type": "code",
      "execution_count": 244,
      "metadata": {
        "colab": {
          "base_uri": "https://localhost:8080/"
        },
        "id": "DQJCZ7VVgRoi",
        "outputId": "776d549d-79ff-4d65-bf85-e0405a2ddaad"
      },
      "outputs": [
        {
          "data": {
            "text/plain": [
              "2"
            ]
          },
          "execution_count": 244,
          "metadata": {},
          "output_type": "execute_result"
        }
      ],
      "source": [
        "df.duplicated().sum()"
      ]
    },
    {
      "cell_type": "code",
      "execution_count": 245,
      "metadata": {
        "id": "cFamnT_ogVNP"
      },
      "outputs": [],
      "source": [
        "df.drop_duplicates(inplace=True)"
      ]
    },
    {
      "cell_type": "markdown",
      "metadata": {
        "id": "L-vnOShEgZFl"
      },
      "source": [
        "# Preprocessing"
      ]
    },
    {
      "cell_type": "code",
      "execution_count": 246,
      "metadata": {
        "id": "9uKIWf9KgdhX"
      },
      "outputs": [],
      "source": [
        "def preprocessing(text):\n",
        "\n",
        "  text = text.lower()\n",
        "\n",
        "  text = word_tokenize(text)\n",
        "\n",
        "  # remove special characters\n",
        "  filtered_text =[]\n",
        "  for word in text:\n",
        "    if word.isalnum():\n",
        "      filtered_text.append(word)\n",
        "\n",
        "  text = filtered_text[:]\n",
        "  filtered_text.clear()\n",
        "\n",
        "  # remove stopwords and punctuation\n",
        "  for word in text:\n",
        "    if word not in stopwords.words('english') and word not in string.punctuation:\n",
        "      filtered_text.append(word)\n",
        "\n",
        "  text = filtered_text[:]\n",
        "  filtered_text.clear()\n",
        "\n",
        "  # stemming\n",
        "  ps = PorterStemmer()\n",
        "  for word in text:\n",
        "    filtered_text.append(ps.stem(word))\n",
        "  text = filtered_text[:]\n",
        "  filtered_text.clear()\n",
        "\n",
        "  return \" \".join(text)"
      ]
    },
    {
      "cell_type": "code",
      "execution_count": 247,
      "metadata": {
        "colab": {
          "base_uri": "https://localhost:8080/",
          "height": 206
        },
        "id": "JJehS8Png1ao",
        "outputId": "5f726277-3770-49f3-cdad-1db4c55962ff"
      },
      "outputs": [
        {
          "data": {
            "text/html": [
              "<div>\n",
              "<style scoped>\n",
              "    .dataframe tbody tr th:only-of-type {\n",
              "        vertical-align: middle;\n",
              "    }\n",
              "\n",
              "    .dataframe tbody tr th {\n",
              "        vertical-align: top;\n",
              "    }\n",
              "\n",
              "    .dataframe thead th {\n",
              "        text-align: right;\n",
              "    }\n",
              "</style>\n",
              "<table border=\"1\" class=\"dataframe\">\n",
              "  <thead>\n",
              "    <tr style=\"text-align: right;\">\n",
              "      <th></th>\n",
              "      <th>User Input</th>\n",
              "      <th>Category</th>\n",
              "      <th>Chatbot Response</th>\n",
              "      <th>Preprocessed</th>\n",
              "    </tr>\n",
              "  </thead>\n",
              "  <tbody>\n",
              "    <tr>\n",
              "      <th>0</th>\n",
              "      <td>Good morning</td>\n",
              "      <td>Greeting</td>\n",
              "      <td>Welcome to ICTHUB - For Digital Solutions! \\n\\...</td>\n",
              "      <td>good morn</td>\n",
              "    </tr>\n",
              "    <tr>\n",
              "      <th>1</th>\n",
              "      <td>Good afternoon</td>\n",
              "      <td>Greeting</td>\n",
              "      <td>Welcome to ICTHUB - For Digital Solutions! \\n\\...</td>\n",
              "      <td>good afternoon</td>\n",
              "    </tr>\n",
              "    <tr>\n",
              "      <th>2</th>\n",
              "      <td>Good evening</td>\n",
              "      <td>Greeting</td>\n",
              "      <td>Welcome to ICTHUB - For Digital Solutions! \\n...</td>\n",
              "      <td>good even</td>\n",
              "    </tr>\n",
              "    <tr>\n",
              "      <th>3</th>\n",
              "      <td>Hi there</td>\n",
              "      <td>Greeting</td>\n",
              "      <td>\\n  Welcome to ICTHUB - For Digital Solutions!...</td>\n",
              "      <td>hi</td>\n",
              "    </tr>\n",
              "    <tr>\n",
              "      <th>4</th>\n",
              "      <td>Hello</td>\n",
              "      <td>Greeting</td>\n",
              "      <td>\\n  Welcome to ICTHUB - For Digital Solutions!...</td>\n",
              "      <td>hello</td>\n",
              "    </tr>\n",
              "  </tbody>\n",
              "</table>\n",
              "</div>"
            ],
            "text/plain": [
              "       User Input  Category  \\\n",
              "0    Good morning  Greeting   \n",
              "1  Good afternoon  Greeting   \n",
              "2    Good evening  Greeting   \n",
              "3        Hi there  Greeting   \n",
              "4           Hello  Greeting   \n",
              "\n",
              "                                    Chatbot Response    Preprocessed  \n",
              "0  Welcome to ICTHUB - For Digital Solutions! \\n\\...       good morn  \n",
              "1  Welcome to ICTHUB - For Digital Solutions! \\n\\...  good afternoon  \n",
              "2   Welcome to ICTHUB - For Digital Solutions! \\n...       good even  \n",
              "3  \\n  Welcome to ICTHUB - For Digital Solutions!...              hi  \n",
              "4  \\n  Welcome to ICTHUB - For Digital Solutions!...           hello  "
            ]
          },
          "execution_count": 247,
          "metadata": {},
          "output_type": "execute_result"
        }
      ],
      "source": [
        "df['Preprocessed'] = df['User Input'].apply(preprocessing)\n",
        "df.head()"
      ]
    },
    {
      "cell_type": "code",
      "execution_count": 248,
      "metadata": {
        "id": "-ltZYeWgjiL-"
      },
      "outputs": [],
      "source": [
        "X = df['Preprocessed']\n",
        "y = df['Category']\n",
        "\n",
        "label_encoder = LabelEncoder()\n",
        "y = label_encoder.fit_transform(y) # Spam = > 0 , Ham =>1\n",
        "\n",
        "X_train, X_test, y_train, y_test = train_test_split(X, y, test_size=0.25, random_state=1, stratify=y)\n",
        "\n",
        "# vectorization using tf idf\n",
        "tfid_vec = TfidfVectorizer()\n",
        "X_train = tfid_vec.fit_transform(X_train)\n",
        "X_test = tfid_vec.transform(X_test)"
      ]
    },
    {
      "cell_type": "code",
      "execution_count": 249,
      "metadata": {
        "colab": {
          "base_uri": "https://localhost:8080/",
          "height": 80
        },
        "id": "ZA0BZdn9lvAJ",
        "outputId": "350b01be-67d5-4bff-8052-f4ebc7ce5901"
      },
      "outputs": [
        {
          "data": {
            "text/html": [
              "<style>#sk-container-id-14 {\n",
              "  /* Definition of color scheme common for light and dark mode */\n",
              "  --sklearn-color-text: black;\n",
              "  --sklearn-color-line: gray;\n",
              "  /* Definition of color scheme for unfitted estimators */\n",
              "  --sklearn-color-unfitted-level-0: #fff5e6;\n",
              "  --sklearn-color-unfitted-level-1: #f6e4d2;\n",
              "  --sklearn-color-unfitted-level-2: #ffe0b3;\n",
              "  --sklearn-color-unfitted-level-3: chocolate;\n",
              "  /* Definition of color scheme for fitted estimators */\n",
              "  --sklearn-color-fitted-level-0: #f0f8ff;\n",
              "  --sklearn-color-fitted-level-1: #d4ebff;\n",
              "  --sklearn-color-fitted-level-2: #b3dbfd;\n",
              "  --sklearn-color-fitted-level-3: cornflowerblue;\n",
              "\n",
              "  /* Specific color for light theme */\n",
              "  --sklearn-color-text-on-default-background: var(--sg-text-color, var(--theme-code-foreground, var(--jp-content-font-color1, black)));\n",
              "  --sklearn-color-background: var(--sg-background-color, var(--theme-background, var(--jp-layout-color0, white)));\n",
              "  --sklearn-color-border-box: var(--sg-text-color, var(--theme-code-foreground, var(--jp-content-font-color1, black)));\n",
              "  --sklearn-color-icon: #696969;\n",
              "\n",
              "  @media (prefers-color-scheme: dark) {\n",
              "    /* Redefinition of color scheme for dark theme */\n",
              "    --sklearn-color-text-on-default-background: var(--sg-text-color, var(--theme-code-foreground, var(--jp-content-font-color1, white)));\n",
              "    --sklearn-color-background: var(--sg-background-color, var(--theme-background, var(--jp-layout-color0, #111)));\n",
              "    --sklearn-color-border-box: var(--sg-text-color, var(--theme-code-foreground, var(--jp-content-font-color1, white)));\n",
              "    --sklearn-color-icon: #878787;\n",
              "  }\n",
              "}\n",
              "\n",
              "#sk-container-id-14 {\n",
              "  color: var(--sklearn-color-text);\n",
              "}\n",
              "\n",
              "#sk-container-id-14 pre {\n",
              "  padding: 0;\n",
              "}\n",
              "\n",
              "#sk-container-id-14 input.sk-hidden--visually {\n",
              "  border: 0;\n",
              "  clip: rect(1px 1px 1px 1px);\n",
              "  clip: rect(1px, 1px, 1px, 1px);\n",
              "  height: 1px;\n",
              "  margin: -1px;\n",
              "  overflow: hidden;\n",
              "  padding: 0;\n",
              "  position: absolute;\n",
              "  width: 1px;\n",
              "}\n",
              "\n",
              "#sk-container-id-14 div.sk-dashed-wrapped {\n",
              "  border: 1px dashed var(--sklearn-color-line);\n",
              "  margin: 0 0.4em 0.5em 0.4em;\n",
              "  box-sizing: border-box;\n",
              "  padding-bottom: 0.4em;\n",
              "  background-color: var(--sklearn-color-background);\n",
              "}\n",
              "\n",
              "#sk-container-id-14 div.sk-container {\n",
              "  /* jupyter's `normalize.less` sets `[hidden] { display: none; }`\n",
              "     but bootstrap.min.css set `[hidden] { display: none !important; }`\n",
              "     so we also need the `!important` here to be able to override the\n",
              "     default hidden behavior on the sphinx rendered scikit-learn.org.\n",
              "     See: https://github.com/scikit-learn/scikit-learn/issues/21755 */\n",
              "  display: inline-block !important;\n",
              "  position: relative;\n",
              "}\n",
              "\n",
              "#sk-container-id-14 div.sk-text-repr-fallback {\n",
              "  display: none;\n",
              "}\n",
              "\n",
              "div.sk-parallel-item,\n",
              "div.sk-serial,\n",
              "div.sk-item {\n",
              "  /* draw centered vertical line to link estimators */\n",
              "  background-image: linear-gradient(var(--sklearn-color-text-on-default-background), var(--sklearn-color-text-on-default-background));\n",
              "  background-size: 2px 100%;\n",
              "  background-repeat: no-repeat;\n",
              "  background-position: center center;\n",
              "}\n",
              "\n",
              "/* Parallel-specific style estimator block */\n",
              "\n",
              "#sk-container-id-14 div.sk-parallel-item::after {\n",
              "  content: \"\";\n",
              "  width: 100%;\n",
              "  border-bottom: 2px solid var(--sklearn-color-text-on-default-background);\n",
              "  flex-grow: 1;\n",
              "}\n",
              "\n",
              "#sk-container-id-14 div.sk-parallel {\n",
              "  display: flex;\n",
              "  align-items: stretch;\n",
              "  justify-content: center;\n",
              "  background-color: var(--sklearn-color-background);\n",
              "  position: relative;\n",
              "}\n",
              "\n",
              "#sk-container-id-14 div.sk-parallel-item {\n",
              "  display: flex;\n",
              "  flex-direction: column;\n",
              "}\n",
              "\n",
              "#sk-container-id-14 div.sk-parallel-item:first-child::after {\n",
              "  align-self: flex-end;\n",
              "  width: 50%;\n",
              "}\n",
              "\n",
              "#sk-container-id-14 div.sk-parallel-item:last-child::after {\n",
              "  align-self: flex-start;\n",
              "  width: 50%;\n",
              "}\n",
              "\n",
              "#sk-container-id-14 div.sk-parallel-item:only-child::after {\n",
              "  width: 0;\n",
              "}\n",
              "\n",
              "/* Serial-specific style estimator block */\n",
              "\n",
              "#sk-container-id-14 div.sk-serial {\n",
              "  display: flex;\n",
              "  flex-direction: column;\n",
              "  align-items: center;\n",
              "  background-color: var(--sklearn-color-background);\n",
              "  padding-right: 1em;\n",
              "  padding-left: 1em;\n",
              "}\n",
              "\n",
              "\n",
              "/* Toggleable style: style used for estimator/Pipeline/ColumnTransformer box that is\n",
              "clickable and can be expanded/collapsed.\n",
              "- Pipeline and ColumnTransformer use this feature and define the default style\n",
              "- Estimators will overwrite some part of the style using the `sk-estimator` class\n",
              "*/\n",
              "\n",
              "/* Pipeline and ColumnTransformer style (default) */\n",
              "\n",
              "#sk-container-id-14 div.sk-toggleable {\n",
              "  /* Default theme specific background. It is overwritten whether we have a\n",
              "  specific estimator or a Pipeline/ColumnTransformer */\n",
              "  background-color: var(--sklearn-color-background);\n",
              "}\n",
              "\n",
              "/* Toggleable label */\n",
              "#sk-container-id-14 label.sk-toggleable__label {\n",
              "  cursor: pointer;\n",
              "  display: block;\n",
              "  width: 100%;\n",
              "  margin-bottom: 0;\n",
              "  padding: 0.5em;\n",
              "  box-sizing: border-box;\n",
              "  text-align: center;\n",
              "}\n",
              "\n",
              "#sk-container-id-14 label.sk-toggleable__label-arrow:before {\n",
              "  /* Arrow on the left of the label */\n",
              "  content: \"▸\";\n",
              "  float: left;\n",
              "  margin-right: 0.25em;\n",
              "  color: var(--sklearn-color-icon);\n",
              "}\n",
              "\n",
              "#sk-container-id-14 label.sk-toggleable__label-arrow:hover:before {\n",
              "  color: var(--sklearn-color-text);\n",
              "}\n",
              "\n",
              "/* Toggleable content - dropdown */\n",
              "\n",
              "#sk-container-id-14 div.sk-toggleable__content {\n",
              "  max-height: 0;\n",
              "  max-width: 0;\n",
              "  overflow: hidden;\n",
              "  text-align: left;\n",
              "  /* unfitted */\n",
              "  background-color: var(--sklearn-color-unfitted-level-0);\n",
              "}\n",
              "\n",
              "#sk-container-id-14 div.sk-toggleable__content.fitted {\n",
              "  /* fitted */\n",
              "  background-color: var(--sklearn-color-fitted-level-0);\n",
              "}\n",
              "\n",
              "#sk-container-id-14 div.sk-toggleable__content pre {\n",
              "  margin: 0.2em;\n",
              "  border-radius: 0.25em;\n",
              "  color: var(--sklearn-color-text);\n",
              "  /* unfitted */\n",
              "  background-color: var(--sklearn-color-unfitted-level-0);\n",
              "}\n",
              "\n",
              "#sk-container-id-14 div.sk-toggleable__content.fitted pre {\n",
              "  /* unfitted */\n",
              "  background-color: var(--sklearn-color-fitted-level-0);\n",
              "}\n",
              "\n",
              "#sk-container-id-14 input.sk-toggleable__control:checked~div.sk-toggleable__content {\n",
              "  /* Expand drop-down */\n",
              "  max-height: 200px;\n",
              "  max-width: 100%;\n",
              "  overflow: auto;\n",
              "}\n",
              "\n",
              "#sk-container-id-14 input.sk-toggleable__control:checked~label.sk-toggleable__label-arrow:before {\n",
              "  content: \"▾\";\n",
              "}\n",
              "\n",
              "/* Pipeline/ColumnTransformer-specific style */\n",
              "\n",
              "#sk-container-id-14 div.sk-label input.sk-toggleable__control:checked~label.sk-toggleable__label {\n",
              "  color: var(--sklearn-color-text);\n",
              "  background-color: var(--sklearn-color-unfitted-level-2);\n",
              "}\n",
              "\n",
              "#sk-container-id-14 div.sk-label.fitted input.sk-toggleable__control:checked~label.sk-toggleable__label {\n",
              "  background-color: var(--sklearn-color-fitted-level-2);\n",
              "}\n",
              "\n",
              "/* Estimator-specific style */\n",
              "\n",
              "/* Colorize estimator box */\n",
              "#sk-container-id-14 div.sk-estimator input.sk-toggleable__control:checked~label.sk-toggleable__label {\n",
              "  /* unfitted */\n",
              "  background-color: var(--sklearn-color-unfitted-level-2);\n",
              "}\n",
              "\n",
              "#sk-container-id-14 div.sk-estimator.fitted input.sk-toggleable__control:checked~label.sk-toggleable__label {\n",
              "  /* fitted */\n",
              "  background-color: var(--sklearn-color-fitted-level-2);\n",
              "}\n",
              "\n",
              "#sk-container-id-14 div.sk-label label.sk-toggleable__label,\n",
              "#sk-container-id-14 div.sk-label label {\n",
              "  /* The background is the default theme color */\n",
              "  color: var(--sklearn-color-text-on-default-background);\n",
              "}\n",
              "\n",
              "/* On hover, darken the color of the background */\n",
              "#sk-container-id-14 div.sk-label:hover label.sk-toggleable__label {\n",
              "  color: var(--sklearn-color-text);\n",
              "  background-color: var(--sklearn-color-unfitted-level-2);\n",
              "}\n",
              "\n",
              "/* Label box, darken color on hover, fitted */\n",
              "#sk-container-id-14 div.sk-label.fitted:hover label.sk-toggleable__label.fitted {\n",
              "  color: var(--sklearn-color-text);\n",
              "  background-color: var(--sklearn-color-fitted-level-2);\n",
              "}\n",
              "\n",
              "/* Estimator label */\n",
              "\n",
              "#sk-container-id-14 div.sk-label label {\n",
              "  font-family: monospace;\n",
              "  font-weight: bold;\n",
              "  display: inline-block;\n",
              "  line-height: 1.2em;\n",
              "}\n",
              "\n",
              "#sk-container-id-14 div.sk-label-container {\n",
              "  text-align: center;\n",
              "}\n",
              "\n",
              "/* Estimator-specific */\n",
              "#sk-container-id-14 div.sk-estimator {\n",
              "  font-family: monospace;\n",
              "  border: 1px dotted var(--sklearn-color-border-box);\n",
              "  border-radius: 0.25em;\n",
              "  box-sizing: border-box;\n",
              "  margin-bottom: 0.5em;\n",
              "  /* unfitted */\n",
              "  background-color: var(--sklearn-color-unfitted-level-0);\n",
              "}\n",
              "\n",
              "#sk-container-id-14 div.sk-estimator.fitted {\n",
              "  /* fitted */\n",
              "  background-color: var(--sklearn-color-fitted-level-0);\n",
              "}\n",
              "\n",
              "/* on hover */\n",
              "#sk-container-id-14 div.sk-estimator:hover {\n",
              "  /* unfitted */\n",
              "  background-color: var(--sklearn-color-unfitted-level-2);\n",
              "}\n",
              "\n",
              "#sk-container-id-14 div.sk-estimator.fitted:hover {\n",
              "  /* fitted */\n",
              "  background-color: var(--sklearn-color-fitted-level-2);\n",
              "}\n",
              "\n",
              "/* Specification for estimator info (e.g. \"i\" and \"?\") */\n",
              "\n",
              "/* Common style for \"i\" and \"?\" */\n",
              "\n",
              ".sk-estimator-doc-link,\n",
              "a:link.sk-estimator-doc-link,\n",
              "a:visited.sk-estimator-doc-link {\n",
              "  float: right;\n",
              "  font-size: smaller;\n",
              "  line-height: 1em;\n",
              "  font-family: monospace;\n",
              "  background-color: var(--sklearn-color-background);\n",
              "  border-radius: 1em;\n",
              "  height: 1em;\n",
              "  width: 1em;\n",
              "  text-decoration: none !important;\n",
              "  margin-left: 1ex;\n",
              "  /* unfitted */\n",
              "  border: var(--sklearn-color-unfitted-level-1) 1pt solid;\n",
              "  color: var(--sklearn-color-unfitted-level-1);\n",
              "}\n",
              "\n",
              ".sk-estimator-doc-link.fitted,\n",
              "a:link.sk-estimator-doc-link.fitted,\n",
              "a:visited.sk-estimator-doc-link.fitted {\n",
              "  /* fitted */\n",
              "  border: var(--sklearn-color-fitted-level-1) 1pt solid;\n",
              "  color: var(--sklearn-color-fitted-level-1);\n",
              "}\n",
              "\n",
              "/* On hover */\n",
              "div.sk-estimator:hover .sk-estimator-doc-link:hover,\n",
              ".sk-estimator-doc-link:hover,\n",
              "div.sk-label-container:hover .sk-estimator-doc-link:hover,\n",
              ".sk-estimator-doc-link:hover {\n",
              "  /* unfitted */\n",
              "  background-color: var(--sklearn-color-unfitted-level-3);\n",
              "  color: var(--sklearn-color-background);\n",
              "  text-decoration: none;\n",
              "}\n",
              "\n",
              "div.sk-estimator.fitted:hover .sk-estimator-doc-link.fitted:hover,\n",
              ".sk-estimator-doc-link.fitted:hover,\n",
              "div.sk-label-container:hover .sk-estimator-doc-link.fitted:hover,\n",
              ".sk-estimator-doc-link.fitted:hover {\n",
              "  /* fitted */\n",
              "  background-color: var(--sklearn-color-fitted-level-3);\n",
              "  color: var(--sklearn-color-background);\n",
              "  text-decoration: none;\n",
              "}\n",
              "\n",
              "/* Span, style for the box shown on hovering the info icon */\n",
              ".sk-estimator-doc-link span {\n",
              "  display: none;\n",
              "  z-index: 9999;\n",
              "  position: relative;\n",
              "  font-weight: normal;\n",
              "  right: .2ex;\n",
              "  padding: .5ex;\n",
              "  margin: .5ex;\n",
              "  width: min-content;\n",
              "  min-width: 20ex;\n",
              "  max-width: 50ex;\n",
              "  color: var(--sklearn-color-text);\n",
              "  box-shadow: 2pt 2pt 4pt #999;\n",
              "  /* unfitted */\n",
              "  background: var(--sklearn-color-unfitted-level-0);\n",
              "  border: .5pt solid var(--sklearn-color-unfitted-level-3);\n",
              "}\n",
              "\n",
              ".sk-estimator-doc-link.fitted span {\n",
              "  /* fitted */\n",
              "  background: var(--sklearn-color-fitted-level-0);\n",
              "  border: var(--sklearn-color-fitted-level-3);\n",
              "}\n",
              "\n",
              ".sk-estimator-doc-link:hover span {\n",
              "  display: block;\n",
              "}\n",
              "\n",
              "/* \"?\"-specific style due to the `<a>` HTML tag */\n",
              "\n",
              "#sk-container-id-14 a.estimator_doc_link {\n",
              "  float: right;\n",
              "  font-size: 1rem;\n",
              "  line-height: 1em;\n",
              "  font-family: monospace;\n",
              "  background-color: var(--sklearn-color-background);\n",
              "  border-radius: 1rem;\n",
              "  height: 1rem;\n",
              "  width: 1rem;\n",
              "  text-decoration: none;\n",
              "  /* unfitted */\n",
              "  color: var(--sklearn-color-unfitted-level-1);\n",
              "  border: var(--sklearn-color-unfitted-level-1) 1pt solid;\n",
              "}\n",
              "\n",
              "#sk-container-id-14 a.estimator_doc_link.fitted {\n",
              "  /* fitted */\n",
              "  border: var(--sklearn-color-fitted-level-1) 1pt solid;\n",
              "  color: var(--sklearn-color-fitted-level-1);\n",
              "}\n",
              "\n",
              "/* On hover */\n",
              "#sk-container-id-14 a.estimator_doc_link:hover {\n",
              "  /* unfitted */\n",
              "  background-color: var(--sklearn-color-unfitted-level-3);\n",
              "  color: var(--sklearn-color-background);\n",
              "  text-decoration: none;\n",
              "}\n",
              "\n",
              "#sk-container-id-14 a.estimator_doc_link.fitted:hover {\n",
              "  /* fitted */\n",
              "  background-color: var(--sklearn-color-fitted-level-3);\n",
              "}\n",
              "</style><div id=\"sk-container-id-14\" class=\"sk-top-container\"><div class=\"sk-text-repr-fallback\"><pre>LogisticRegression(class_weight=&#x27;balanced&#x27;)</pre><b>In a Jupyter environment, please rerun this cell to show the HTML representation or trust the notebook. <br />On GitHub, the HTML representation is unable to render, please try loading this page with nbviewer.org.</b></div><div class=\"sk-container\" hidden><div class=\"sk-item\"><div class=\"sk-estimator fitted sk-toggleable\"><input class=\"sk-toggleable__control sk-hidden--visually\" id=\"sk-estimator-id-14\" type=\"checkbox\" checked><label for=\"sk-estimator-id-14\" class=\"sk-toggleable__label fitted sk-toggleable__label-arrow fitted\">&nbsp;&nbsp;LogisticRegression<a class=\"sk-estimator-doc-link fitted\" rel=\"noreferrer\" target=\"_blank\" href=\"https://scikit-learn.org/1.5/modules/generated/sklearn.linear_model.LogisticRegression.html\">?<span>Documentation for LogisticRegression</span></a><span class=\"sk-estimator-doc-link fitted\">i<span>Fitted</span></span></label><div class=\"sk-toggleable__content fitted\"><pre>LogisticRegression(class_weight=&#x27;balanced&#x27;)</pre></div> </div></div></div></div>"
            ],
            "text/plain": [
              "LogisticRegression(class_weight='balanced')"
            ]
          },
          "execution_count": 249,
          "metadata": {},
          "output_type": "execute_result"
        }
      ],
      "source": [
        "model = LogisticRegression(class_weight='balanced')\n",
        "model.fit(X_train, y_train)"
      ]
    },
    {
      "cell_type": "code",
      "execution_count": 250,
      "metadata": {
        "colab": {
          "base_uri": "https://localhost:8080/"
        },
        "id": "fJEAjwzTmS_Z",
        "outputId": "0a67d5f6-ac35-417b-94c7-287df0490e42"
      },
      "outputs": [
        {
          "name": "stdout",
          "output_type": "stream",
          "text": [
            "accuracy_score :  97.20670391061452\n"
          ]
        }
      ],
      "source": [
        "y_pred = model.predict(X_test)\n",
        "acc = accuracy_score(y_test, y_pred)\n",
        "print(\"accuracy_score : \",acc*100)"
      ]
    },
    {
      "cell_type": "code",
      "execution_count": 251,
      "metadata": {
        "colab": {
          "base_uri": "https://localhost:8080/"
        },
        "id": "h2a1JuH-mnuu",
        "outputId": "ae4e1133-fcf5-4c51-ac27-76b3eb3894d7"
      },
      "outputs": [
        {
          "data": {
            "text/plain": [
              "array([[17,  0,  0,  0,  0,  0,  0,  0,  0,  0,  0],\n",
              "       [ 0, 19,  0,  2,  0,  0,  0,  0,  0,  0,  0],\n",
              "       [ 0,  0, 16,  0,  0,  0,  0,  0,  0,  0,  0],\n",
              "       [ 0,  0,  0, 17,  0,  0,  0,  0,  0,  0,  0],\n",
              "       [ 0,  0,  0,  0, 15,  0,  0,  0,  0,  0,  0],\n",
              "       [ 0,  0,  0,  1,  0, 11,  0,  0,  0,  0,  0],\n",
              "       [ 0,  0,  0,  0,  2,  0, 15,  0,  0,  0,  0],\n",
              "       [ 0,  0,  0,  0,  0,  0,  0, 16,  0,  0,  0],\n",
              "       [ 0,  0,  0,  0,  0,  0,  0,  0, 16,  0,  0],\n",
              "       [ 0,  0,  0,  0,  0,  0,  0,  0,  0, 16,  0],\n",
              "       [ 0,  0,  0,  0,  0,  0,  0,  0,  0,  0, 16]], dtype=int64)"
            ]
          },
          "execution_count": 251,
          "metadata": {},
          "output_type": "execute_result"
        }
      ],
      "source": [
        "cm = confusion_matrix(y_test, y_pred)\n",
        "cm"
      ]
    },
    {
      "cell_type": "code",
      "execution_count": 252,
      "metadata": {
        "colab": {
          "base_uri": "https://localhost:8080/",
          "height": 455
        },
        "id": "pmLC4xNSmw_B",
        "outputId": "d7ef1c46-fcae-43f4-9a17-47a070cac96e"
      },
      "outputs": [
        {
          "data": {
            "image/png": "[encoded data removed]",
            "text/plain": [
              "<Figure size 640x480 with 2 Axes>"
            ]
          },
          "metadata": {},
          "output_type": "display_data"
        }
      ],
      "source": [
        "# show confustion matrix\n",
        "sns.heatmap(cm, annot=True, fmt='g')\n",
        "plt.xlabel('Predicted')\n",
        "plt.ylabel('Actual')\n",
        "plt.show()"
      ]
    },
    {
      "cell_type": "markdown",
      "metadata": {
        "id": "3CeA84Vtnyyh"
      },
      "source": [
        "## Chatbot GUI using gradio"
      ]
    },
    {
      "cell_type": "code",
      "execution_count": 253,
      "metadata": {
        "collapsed": true,
        "id": "TTGLdqvBvgSC"
      },
      "outputs": [],
      "source": [
        "known_words = list(tfid_vec.vocabulary_.keys()) # hi,hi,flkdsgjk\n",
        "\n",
        "def is_similar_to_known_words(user_input,min_matches=1) : # True o  Flas\n",
        "  words = user_input.split()\n",
        "  match_count =0\n",
        "  for word in words:\n",
        "    close =difflib.get_close_matches(word,known_words,n=1,cutoff=0.75)\n",
        "    if close:\n",
        "      match_count+=1\n",
        "    return match_count>=min_matches # 0 >=1"
      ]
    },
    {
      "cell_type": "code",
      "execution_count": 254,
      "metadata": {
        "id": "UHRxgymonwk9"
      },
      "outputs": [
        {
          "name": "stdout",
          "output_type": "stream",
          "text": [
            "* Running on local URL:  http://127.0.0.1:7882\n",
            "* To create a public link, set `share=True` in `launch()`.\n"
          ]
        },
        {
          "data": {
            "text/html": [
              "<div><iframe src=\"http://127.0.0.1:7882/\" width=\"100%\" height=\"500\" allow=\"autoplay; camera; microphone; clipboard-read; clipboard-write;\" frameborder=\"0\" allowfullscreen></iframe></div>"
            ],
            "text/plain": [
              "<IPython.core.display.HTML object>"
            ]
          },
          "metadata": {},
          "output_type": "display_data"
        },
        {
          "data": {
            "text/plain": []
          },
          "execution_count": 254,
          "metadata": {},
          "output_type": "execute_result"
        }
      ],
      "source": [
        "import gradio as gr\n",
        "import random\n",
        "import tempfile\n",
        "import os\n",
        "from gtts import gTTS\n",
        "\n",
        "\n",
        "\n",
        "   \n",
        "# Dummy chatbot model for demonstration\n",
        "def chatbot_response(user_input):\n",
        "    user_input_processed = preprocessing(user_input)\n",
        "    if not is_similar_to_known_words(user_input_processed):\n",
        "        response_text = \"Chatbot: Sorry, I didn't understand that.\"\n",
        "    else:\n",
        "        user_input_transformed = tfid_vec.transform([user_input_processed])\n",
        "        predicted_category = model.predict(user_input_transformed)\n",
        "        predicted_category = label_encoder.inverse_transform(predicted_category)[0]\n",
        "        responses = df.groupby('Category')['Chatbot Response'].apply(list).to_dict()\n",
        "        response_text = random.choice(responses[predicted_category]).strip()\n",
        "        if len(response_text) == 0:\n",
        "            response_text = \"Chatbot: Sorry, I didn't understand that.\"\n",
        "        else:\n",
        "            response_text = \"Chatbot: \" + response_text\n",
        "\n",
        "            \n",
        "    # Generate audio from the response text\n",
        "    with tempfile.NamedTemporaryFile(suffix=\".mp3\", delete=False) as temp_audio:\n",
        "        tts = gTTS(text=response_text, lang='en')\n",
        "        tts.save(temp_audio.name)\n",
        "        audio_file = temp_audio.name\n",
        "\n",
        "    return response_text, audio_file\n",
        "\n",
        "# Custom CSS styling\n",
        "custom_css = \"\"\"\n",
        "body {\n",
        "    background: linear-gradient(to right, #0f2027, #203a43, #2c5364);\n",
        "    color: white;\n",
        "    font-family: 'Segoe UI', sans-serif;\n",
        "}\n",
        "\n",
        "h1 {\n",
        "    text-align: center;\n",
        "    color: #ffffff;\n",
        "    margin-bottom: 10px;\n",
        "}\n",
        "\n",
        "#logo {\n",
        "    display: block;\n",
        "    margin-left: auto;\n",
        "    margin-right: auto;\n",
        "    width: 500px;\n",
        "    border-radius: 10px;\n",
        "    margin-bottom: 20px;\n",
        "}\n",
        "\n",
        ".gradio-container {\n",
        "    padding: 20px !important;\n",
        "    background-color: rgba(0, 0, 0, 0.3);\n",
        "    border-radius: 16px;\n",
        "}\n",
        "\n",
        "textarea, input {\n",
        "    background-color: #1f1f1f !important;\n",
        "    color: white !important;\n",
        "    border: 1px solid #444 !important;\n",
        "    border-radius: 8px !important;\n",
        "}\n",
        "\n",
        "button {\n",
        "    background-color: #4CAF50 !important;\n",
        "    color: white !important;\n",
        "    border: none !important;\n",
        "    border-radius: 8px !important;\n",
        "    padding: 10px 20px !important;\n",
        "}\n",
        "\n",
        "button:hover {\n",
        "    background-color: #45a049 !important;\n",
        "}\n",
        "\"\"\"\n",
        "\n",
        "# Gradio interface\n",
        "with gr.Blocks(css=custom_css, title=\"ICTHub Audio Chatbot\") as demo:\n",
        "    gr.Markdown(\"<h1>ICTHub Chatbot with Voice</h1>\")\n",
        "    gr.Image(\"icthub_logo.png\", elem_id=\"logo\")\n",
        "\n",
        "    with gr.Row():\n",
        "        user_input = gr.Textbox(label=\"What do you want to ask?\", placeholder=\"Type your question here...\")\n",
        "        output_text = gr.Textbox(label=\"Chatbot Response\")\n",
        "\n",
        "    output_audio = gr.Audio(label=\"Voice Response\", interactive=False)\n",
        "\n",
        "    with gr.Row():\n",
        "        submit_btn = gr.Button(\"Submit\")\n",
        "        clear_btn = gr.Button(\"Clear\")\n",
        "\n",
        "    submit_btn.click(fn=chatbot_response, inputs=user_input, outputs=[output_text, output_audio])\n",
        "    clear_btn.click(fn=lambda: (\"\", None), inputs=None, outputs=[user_input, output_text, output_audio])\n",
        "\n",
        "# Launch\n",
        "demo.launch(inbrowser=True)\n"
      ]
    },
    {
      "cell_type": "code",
      "execution_count": 255,
      "metadata": {},
      "outputs": [
        {
          "ename": "SyntaxError",
          "evalue": "unmatched ')' (3168136724.py, line 1)",
          "output_type": "error",
          "traceback": [
            "\u001b[1;36m  Cell \u001b[1;32mIn[255], line 1\u001b[1;36m\u001b[0m\n\u001b[1;33m    حقهىف)()\u001b[0m\n\u001b[1;37m         ^\u001b[0m\n\u001b[1;31mSyntaxError\u001b[0m\u001b[1;31m:\u001b[0m unmatched ')'\n"
          ]
        }
      ],
      "source": [
        "حقهىف)()"
      ]
    },
    {
      "cell_type": "code",
      "execution_count": null,
      "metadata": {},
      "outputs": [
        {
          "name": "stdout",
          "output_type": "stream",
          "text": [
            "* Running on local URL:  http://127.0.0.1:7881\n",
            "* To create a public link, set `share=True` in `launch()`.\n"
          ]
        },
        {
          "data": {
            "text/html": [
              "<div><iframe src=\"http://127.0.0.1:7881/\" width=\"100%\" height=\"500\" allow=\"autoplay; camera; microphone; clipboard-read; clipboard-write;\" frameborder=\"0\" allowfullscreen></iframe></div>"
            ],
            "text/plain": [
              "<IPython.core.display.HTML object>"
            ]
          },
          "metadata": {},
          "output_type": "display_data"
        },
        {
          "data": {
            "text/plain": []
          },
          "execution_count": 237,
          "metadata": {},
          "output_type": "execute_result"
        }
      ],
      "source": [
        "# Create Gradio interface with text input and both text and audio outputs\n",
        "iface = gr.Interface(\n",
        "    fn=chatbot_response,\n",
        "    inputs=\"text\",\n",
        "    outputs=[\"text\", \"audio\"],\n",
        "    title=\"ICTHub Chatbot with Text-to-Speech\",\n",
        "    description=\"Type your message, and the chatbot will respond with text and audio. Type 'exit' to stop.\"\n",
        ")\n",
        "\n",
        "# Launch the interface\n",
        "iface.launch()"
      ]
    }
  ],
  "metadata": {
    "colab": {
      "provenance": []
    },
    "kernelspec": {
      "display_name": "base",
      "language": "python",
      "name": "python3"
    },
    "language_info": {
      "codemirror_mode": {
        "name": "ipython",
        "version": 3
      },
      "file_extension": ".py",
      "mimetype": "text/x-python",
      "name": "python",
      "nbconvert_exporter": "python",
      "pygments_lexer": "ipython3",
      "version": "3.12.7"
    }
  },
  "nbformat": 4,
  "nbformat_minor": 0
}
